{
    "cells": [
        {
            "cell_type": "markdown",
            "id": "ac622319",
            "metadata": {},
            "source": [
                "# Descriptive statistics problems"
            ]
        },
        {
            "cell_type": "markdown",
            "id": "5e0ab0d5",
            "metadata": {},
            "source": [
                "### Exercise 1\n",
                "\n",
                "We will use NumPy to obtain information to describe statistically.\n",
                "\n",
                "- Generate an array of 100 elements following a normal distribution.\n",
                "- Generate an array of 100 elements following a chi-square distribution with 3 degrees of freedom.\n",
                "- Calculate the main metrics and statistical measures that best describe the two vectors."
            ]
        },
        {
            "cell_type": "code",
            "execution_count": 2,
            "id": "9920ec60",
            "metadata": {},
            "outputs": [
                {
                    "name": "stdout",
                    "output_type": "stream",
                    "text": [
                        "Métricas para la distribución normal: {'mean': 0.07223533377535823, 'median': 0.04715612962448081, 'variance': 0.5878442623158056, 'standard deviation': 0.7667100249219424, 'min': -1.9520877995225019, 'max': 2.1330333746562666, '25th percentile': -0.49648649483690704, '75th percentile': 0.6138076533381374}\n",
                        "Métricas para la distribución chi-cuadrado: {'mean': 2.872677621953054, 'median': 2.137313665928785, 'variance': 6.031233534230862, 'standard deviation': 2.455856985703944, 'min': 0.07899059494147552, 'max': 12.52884355140709, '25th percentile': 1.225269177080559, '75th percentile': 3.560733372463446}\n"
                    ]
                }
            ],
            "source": [
                "import numpy as np\n",
                "from scipy.stats import chi2\n",
                "\n",
                "# Generar una matriz de 100 elementos con distribución normal\n",
                "normal_array = np.random.normal(loc=0, scale=1, size=100)\n",
                "\n",
                "# Generar un array de 100 elementos con distribución chi-cuadrado con 3 grados de libertad\n",
                "chi_squared_array = np.random.chisquare(df=3, size=100)\n",
                "\n",
                "# Calcular las principales métricas y medidas estadísticas para ambos arrays\n",
                "def calculate_statistics(data):\n",
                "    metrics = {\n",
                "        'mean': np.mean(data),\n",
                "        'median': np.median(data),\n",
                "        'variance': np.var(data),\n",
                "        'standard deviation': np.std(data),\n",
                "        'min': np.min(data),\n",
                "        'max': np.max(data),\n",
                "        '25th percentile': np.percentile(data, 25),\n",
                "        '75th percentile': np.percentile(data, 75)\n",
                "    }\n",
                "    return metrics\n",
                "\n",
                "# Métricas para la distribución normal\n",
                "normal_metrics = calculate_statistics(normal_array)\n",
                "\n",
                "# Métricas para la distribución chi-cuadrado\n",
                "chi_squared_metrics = calculate_statistics(chi_squared_array)\n",
                "\n",
                "print(\"Métricas para la distribución normal:\", normal_metrics)\n",
                "print(\"Métricas para la distribución chi-cuadrado:\", chi_squared_metrics)\n"
            ]
        },
        {
            "cell_type": "markdown",
            "id": "913e824e",
            "metadata": {},
            "source": [
                "MEDIDAS DE DISPERSIÓN"
            ]
        },
        {
            "cell_type": "code",
            "execution_count": 5,
            "id": "47bd3f1f",
            "metadata": {},
            "outputs": [
                {
                    "name": "stdout",
                    "output_type": "stream",
                    "text": [
                        "Normal range: 4.472023288598682\n",
                        "Normal chi: 12.592089274962756\n"
                    ]
                }
            ],
            "source": [
                "#RANGO \n",
                "\n",
                "range_normal = max(normal) - min(normal)\n",
                "range_chi = max(chi) - min(chi)\n",
                "print(f\"Normal range: {range_normal}\")\n",
                "print(f\"Normal chi: {range_chi}\")"
            ]
        },
        {
            "cell_type": "code",
            "execution_count": 6,
            "id": "897af96a",
            "metadata": {},
            "outputs": [
                {
                    "name": "stdout",
                    "output_type": "stream",
                    "text": [
                        "Normal skewness: -0.17526772024433726\n",
                        "Chi skewness: 1.6683703423622345\n"
                    ]
                }
            ],
            "source": [
                "#### Shape measures\n",
                "\n",
                "##### Skewness\n",
                "\n",
                "from scipy.stats import skew\n",
                "\n",
                "skew_normal = skew(normal)\n",
                "skew_chi = skew(chi)\n",
                "\n",
                "print(f\"Normal skewness: {skew_normal}\")\n",
                "print(f\"Chi skewness: {skew_chi}\")"
            ]
        },
        {
            "cell_type": "code",
            "execution_count": 7,
            "id": "8b532cdf",
            "metadata": {},
            "outputs": [
                {
                    "name": "stdout",
                    "output_type": "stream",
                    "text": [
                        "Normal kurtosis: -0.1554047077420817\n",
                        "Chi kurtosis: 3.620577909892315\n"
                    ]
                }
            ],
            "source": [
                "#KURTOSIS\n",
                "from scipy.stats import kurtosis\n",
                "\n",
                "kurt_normal = kurtosis(normal)\n",
                "kurt_chi = kurtosis(chi)\n",
                "\n",
                "print(f\"Normal kurtosis: {kurt_normal}\")\n",
                "print(f\"Chi kurtosis: {kurt_chi}\")"
            ]
        },
        {
            "cell_type": "markdown",
            "id": "9114d494",
            "metadata": {},
            "source": [
                "Como puede verse, las estadísticas arrojan valores y características intrínsecas para cada distribución.\n",
                "\n",
                "- El vector que sigue una distribución normal tiene una asimetría igual a 0, lo que indica que la media, mediana y moda coinciden y son 0. Por otro lado, la curtosis es cercana a 0, por lo que sigue una distribución normal con alta precisión. .\n",
                "- El vector que sigue una distribución chi-cuadrado tiene una asimetría cercana a 1, estando la mayor cantidad de datos a la izquierda, lo que coincide con la propia definición de la distribución. Esta asimetría refleja que la media es mayor que la moda y la mediana, caracterizando así la distribución chi-cuadrado."
            ]
        },
        {
            "cell_type": "markdown",
            "id": "46c70c3d",
            "metadata": {},
            "source": [
                "### Exercise 2\n",
                "\n",
                "Write a Python program to calculate the standard deviation of the following data:\n",
                "\n",
                "```py\n",
                "data = [4, 2, 5, 8, 6]\n",
                "```"
            ]
        },
        {
            "cell_type": "code",
            "execution_count": 8,
            "id": "d590308e",
            "metadata": {},
            "outputs": [
                {
                    "name": "stdout",
                    "output_type": "stream",
                    "text": [
                        "Datos de estudio: [4, 2, 5, 8, 6]\n",
                        "La desviación estándar de los datos es: 2.00\n"
                    ]
                }
            ],
            "source": [
                "# TODO\n",
                "import numpy as np\n",
                "\n",
                "\n",
                "data = [4, 2, 5, 8, 6]\n",
                "\n",
                "# Calcular la desviación estándar\n",
                "std_dev = np.std(data)\n",
                "\n",
                "print(f\"Datos de estudio: {data}\")\n",
                "print(f\"La desviación estándar de los datos es: {std_dev:.2f}\")"
            ]
        }
    ],
    "metadata": {
        "interpreter": {
            "hash": "9248718ffe6ce6938b217e69dbcc175ea21f4c6b28a317e96c05334edae734bb"
        },
        "kernelspec": {
            "display_name": "Python 3.9.12 ('ML-BOOTCAMP')",
            "language": "python",
            "name": "python3"
        },
        "language_info": {
            "codemirror_mode": {
                "name": "ipython",
                "version": 3
            },
            "file_extension": ".py",
            "mimetype": "text/x-python",
            "name": "python",
            "nbconvert_exporter": "python",
            "pygments_lexer": "ipython3",
            "version": "3.11.4"
        }
    },
    "nbformat": 4,
    "nbformat_minor": 5
}
